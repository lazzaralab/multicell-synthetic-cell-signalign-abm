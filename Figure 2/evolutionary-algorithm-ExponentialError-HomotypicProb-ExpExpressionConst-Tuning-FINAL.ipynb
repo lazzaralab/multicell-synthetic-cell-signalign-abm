{
 "cells": [
  {
   "cell_type": "code",
   "execution_count": 1,
   "metadata": {},
   "outputs": [],
   "source": [
    "import numpy as np\n",
    "import pandas as pd\n",
    "import random\n",
    "import nl4py\n",
    "from skimage.measure import label, regionprops, regionprops_table\n",
    "\n",
    "from itertools import product\n",
    "import multiprocessing\n",
    "import ast"
   ]
  },
  {
   "cell_type": "markdown",
   "metadata": {},
   "source": [
    "# EA Framework"
   ]
  },
  {
   "cell_type": "code",
   "execution_count": 2,
   "metadata": {},
   "outputs": [],
   "source": [
    "def get_full_param_list(n):\n",
    "    parNames = n.getParamNames()\n",
    "    parRanges = n.getParamRanges()\n",
    "    parRanges = [np.array(k).astype(int) for k in parRanges]\n",
    "    c = 0\n",
    "    \n",
    "    full_parameter_list = dict.fromkeys(parNames)\n",
    "    \n",
    "    for par in parNames:\n",
    "        par_range = []\n",
    "        for i in range(int(parRanges[c][2] / parRanges[c][1]) + 1):\n",
    "            par_range.append(parRanges[c][0] + i*parRanges[c][1])\n",
    "        full_parameter_list[par] = par_range\n",
    "        c = c + 1\n",
    "    return full_parameter_list"
   ]
  },
  {
   "cell_type": "code",
   "execution_count": 3,
   "metadata": {},
   "outputs": [],
   "source": [
    "class EvolutionaryAlgorithm:\n",
    "    def __init__(\n",
    "        self,\n",
    "        num_cores=None,\n",
    "        model_path=None,\n",
    "        population=None,\n",
    "        generations=None,\n",
    "        reproduction_rate=None,\n",
    "        mutation_rate=None,\n",
    "        iterations=None,\n",
    "        max_steps=None\n",
    "    ):\n",
    "        self.num_cores = num_cores\n",
    "        self.model_path = model_path\n",
    "        self.population = population\n",
    "        self.generations = generations\n",
    "        self.reproduction_rate = reproduction_rate\n",
    "        self.mutation_rate = mutation_rate\n",
    "        self.iterations = iterations\n",
    "        self.max_steps = max_steps\n",
    "        \n",
    "#         nl4py.startServer(\"/Applications/NetLogo 6.0.4/\")\n",
    "        n = nl4py.newNetLogoHeadlessWorkspace()\n",
    "        n.openModel(self.model_path)\n",
    "        full_parameter_list = get_full_param_list(n)\n",
    "        print(full_parameter_list)\n",
    "        self.parameter_list = full_parameter_list\n",
    "        \n",
    "        self.param_names = list(self.parameter_list.keys())\n",
    "        self.generate_workspaces()\n",
    "            \n",
    "    def generate_workspaces(self):\n",
    "        self.workspaces = []\n",
    "        nl4py.deleteAllHeadlessWorkspaces()\n",
    "        for i in range(num_cores):\n",
    "            n = nl4py.newNetLogoHeadlessWorkspace()\n",
    "            n.openModel(self.model_path)\n",
    "            self.workspaces.append([n,0])\n",
    "            \n",
    "    def EA(self):\n",
    "        # Run initial parameter population, report error\n",
    "        self.outputs_all = []\n",
    "        self.parameter_population = self.generate_random_params(self.population)\n",
    "        run_matrix = self.generate_run_matrix(self.parameter_population)\n",
    "        self.outputs = self.schedule_run_all_param_combinations(self.parameter_population,run_matrix)\n",
    "        self.outputs_all.append(self.outputs)\n",
    "\n",
    "        # Summarize initial outputs\n",
    "        print('---Generation 0---')\n",
    "        [generation_average, generation_minimum,generation_minimum_parm] = self.summarize_outputs()\n",
    "        print('generation_average: {}'.format(generation_average))\n",
    "        print('generation_minimum: {}'.format(generation_minimum))\n",
    "        print(generation_minimum_parm)\n",
    "        \n",
    "        for i in range(self.generations):\n",
    "            print(len(self.parameter_population))\n",
    "            print(len(self.outputs))\n",
    "            offsprings = self.generate_offspring()\n",
    "            \n",
    "            run_matrix = self.generate_run_matrix(offsprings)\n",
    "            offspring_outputs = self.schedule_run_all_param_combinations(offsprings,run_matrix)\n",
    "            \n",
    "            print(\"I ran the model.\")\n",
    "            for k in offspring_outputs:\n",
    "                self.outputs[k] = offspring_outputs[k]\n",
    "            self.kill_parameters()\n",
    "            \n",
    "            self.outputs_all.append(self.outputs)\n",
    "            print('---Generation {}---'.format(i+1))\n",
    "            [generation_average, generation_minimum,generation_minimum_parm] = self.summarize_outputs()\n",
    "            print('generation_average: {}'.format(generation_average))\n",
    "            print('generation_minimum: {}'.format(generation_minimum))\n",
    "            print(generation_minimum_parm)\n",
    "            \n",
    "        for workspace in self.workspaces:\n",
    "            nl4py.deleteHeadlessWorkspace(workspace[0])\n",
    "        \n",
    "#         nl4py.stopServer()\n",
    "#         print(self.outputs_all)\n",
    "        return self.outputs_all\n",
    "        \n",
    "    def schedule_run_all_param_combinations(self,parameter_population,full_run_matrix):\n",
    "#         parameter_population = self.generate_random_params()\n",
    "#         full_run_matrix = self.generate_run_matrix(parameter_population)\n",
    "        \n",
    "        # determine how many times parallelization of cores must be repeated to complete runs\n",
    "        total_runs = len(full_run_matrix)\n",
    "        runsDone = 0\n",
    "        runsStarted = 0\n",
    "        outputs_all = {str(i):[] for i in parameter_population}\n",
    "        \n",
    "        for workspace in self.workspaces:\n",
    "            self.create_and_run_model(full_run_matrix[runsStarted],workspace[0])\n",
    "            workspace[1] = full_run_matrix[runsStarted]\n",
    "            runsStarted = runsStarted + 1\n",
    "          \n",
    "        while runsDone < total_runs:\n",
    "            for workspace in self.workspaces:\n",
    "                newResults = workspace[0].getScheduledReporterResults()\n",
    "                if len(newResults) > 0:\n",
    "                    workspace[0].command(\"stop\")\n",
    "#                     print('Run {} finished.'.format(workspace[1])) \n",
    "                    ###Process simulation results###\n",
    "                    output = newResults[99]\n",
    "                    output_error = self.calculate_output_error(output)\n",
    "                    outputs_all[str(workspace[1])].append(output_error)\n",
    "                    ###Done processing simulation results###\n",
    "                    runsDone = runsDone + 1\n",
    "                    if runsStarted < total_runs:\n",
    "                        self.create_and_run_model(full_run_matrix[runsStarted],workspace[0])\n",
    "                        workspace[1] = full_run_matrix[runsStarted]\n",
    "                        runsStarted = runsStarted + 1\n",
    "        for workspace in self.workspaces:\n",
    "            workspace[0].command(\"stop\")\n",
    "\n",
    "        return outputs_all  \n",
    "            \n",
    "    def generate_random_params(self,pop):\n",
    "        random_param_population = []\n",
    "        for i in range(pop):\n",
    "            param_comb_i = dict.fromkeys(self.parameter_list.keys())\n",
    "            for par in list(self.parameter_list.keys()):\n",
    "                param_comb_i[par] = np.random.choice(self.parameter_list[par])\n",
    "            random_param_population.append(param_comb_i)\n",
    "        return random_param_population\n",
    "\n",
    "    def generate_run_matrix(self, random_parameter_population):\n",
    "        full_run_matrix = [i for i in random_parameter_population for k in range(self.iterations)]\n",
    "        return full_run_matrix\n",
    "    \n",
    "    def create_and_run_model(self, param_comb, n):\n",
    "        # Setup agents\n",
    "        n.command(\"setup\")\n",
    "        check = n.report(\"count turtles\")\n",
    "        while check == 0.0 or check == None:\n",
    "            n.command(\"setup\")\n",
    "            check = n.report(\"count turtles\")\n",
    "#         print('Number of Turtles: {}'.format(n.report(\"count turtles\")))\n",
    "\n",
    "        # Set parameter values\n",
    "        parNames = list(param_comb.keys())\n",
    "        for par in parNames:\n",
    "            cmd = 'set {0} {1}'.format(par,param_comb[par])\n",
    "            n.command(cmd)\n",
    "            check = n.report(par)\n",
    "            while(check != param_comb[par] or check == None):\n",
    "                n.command(cmd)\n",
    "                check = n.report(par)\n",
    "#             print('{}: {}'.format(par,check))\n",
    "        n.command(\"reset-ticks\")\n",
    "    \n",
    "        # Run the model\n",
    "        n.command(\"adjust-exp\")\n",
    "        check = n.report(\"exp-expression-const\")\n",
    "        while check == None:\n",
    "            check = n.report(\"exp-expression-const\")\n",
    "#         print('Adjust-Exp: {}'.format(n.report(\"exp-expression-const\")))\n",
    "\n",
    "        reporters = [\"count turtles\", \n",
    "                     \"count turtles with [color = green]\",\n",
    "                    \"count turtles with [color = red]\",\n",
    "                    \"count turtles with [color = blue]\",\n",
    "                    \"count turtles with [color = gray]\",\n",
    "                    \"[xcor] of turtles with [color = green]\",\n",
    "                    \"[ycor] of turtles with [color = green]\",\n",
    "                    \"[xcor] of turtles with [color = red]\",\n",
    "                    \"[ycor] of turtles with [color = red]\"]\n",
    "\n",
    "        n.scheduleReportersAndRun(reporters,0,1,self.max_steps,\"go\")\n",
    "#         print('Run {} started.'.format(param_comb)) \n",
    "\n",
    "    def calculate_output_error(self,results):\n",
    "        exp_metrics={\n",
    "                    \"green_fract\": 0.48224608,\n",
    "                    \"red_fract\": 0.370580433,\n",
    "                    \"blue_fract\": 0.274062823,\n",
    "                    \"num_green_regions\": 1,\n",
    "                    \"avg_green_region_area\": 0.58,\n",
    "                    \"num_red_regions\": 2.1,\n",
    "                    \"avg_red_region_area\": 0.24\n",
    "                    }\n",
    "        img_green = np.zeros((17,17))\n",
    "        img_red = np.zeros((17,17))\n",
    "\n",
    "        green_x = results[5]\n",
    "        green_y = results[6]\n",
    "        green_x = np.fromstring(green_x[1:-1],sep=',')\n",
    "        green_y = np.fromstring(green_y[1:-1],sep=',')\n",
    "\n",
    "        for (x,y) in zip(green_x,green_y):\n",
    "            img_green[int(x)+8][int(y)+8] = 1\n",
    "\n",
    "        red_x = results[7]\n",
    "        red_y = results[8]\n",
    "        red_x = np.fromstring(red_x[1:-1],sep=',')\n",
    "        red_y = np.fromstring(red_y[1:-1],sep=',')\n",
    "\n",
    "        for (x,y) in zip(red_x,red_y):\n",
    "            img_red[int(x)+8][int(y)+8] = 1\n",
    "\n",
    "        label_img_green = label(img_green,connectivity=1)\n",
    "        green_props_test = regionprops(label_img_green)\n",
    "        if len(green_props_test) > 0:\n",
    "            green_props = regionprops_table(label_img_green, properties=('centroid','area'))\n",
    "            green_props=pd.DataFrame(green_props)\n",
    "            num_green_regions = sum(green_props.area > 2)\n",
    "            if num_green_regions > 0:\n",
    "                avg_green_region_area = sum(green_props.area[green_props.area > 2]) / num_green_regions\n",
    "            else:\n",
    "                avg_green_region_area = 0\n",
    "        else:\n",
    "            num_green_regions = 0\n",
    "            avg_green_region_area = 0\n",
    "\n",
    "        label_img_red = label(img_red,connectivity=1)\n",
    "        red_props_test = regionprops(label_img_red)\n",
    "        if len(red_props_test) > 0:\n",
    "            red_props = regionprops_table(label_img_red, properties=('centroid','area'))\n",
    "            red_props = pd.DataFrame(red_props)\n",
    "            num_red_regions = sum(red_props.area > 2)\n",
    "            if num_red_regions > 0:\n",
    "                avg_red_region_area = sum(red_props.area[red_props.area > 2]) / num_red_regions\n",
    "            else:\n",
    "                avg_red_region_area = 0\n",
    "        else:\n",
    "            num_red_regions = 0\n",
    "            avg_red_region_area = 0\n",
    "\n",
    "        output_metrics={\n",
    "                \"green_fract\": float(results[1]) / 56,\n",
    "                \"red_fract\": float(results[2]) / 56,\n",
    "                \"blue_fract\": float(results[3]) / 56,\n",
    "                \"num_green_regions\": num_green_regions,\n",
    "                \"avg_green_region_area\": avg_green_region_area / 56,\n",
    "                \"num_red_regions\": num_red_regions,\n",
    "                \"avg_red_region_area\": avg_red_region_area / 56\n",
    "                }\n",
    "#         print(output_metrics)\n",
    "\n",
    "        # Calculate errordict.fromkeys(parNames)\n",
    "        output_metrics = list(output_metrics.values())\n",
    "        exp_metrics = list(exp_metrics.values())\n",
    "        individual_errors = np.abs(np.array(output_metrics) - np.array(exp_metrics))\n",
    "        error = (np.exp(individual_errors.sum()) - 1) ** 2\n",
    "#         print(error)\n",
    "        return [individual_errors, error]\n",
    "\n",
    "    def summarize_outputs(self):\n",
    "        self.param_averages = {k: np.average([i[1] for i in self.outputs[k]]) for k in self.outputs}\n",
    "        generation_average = np.mean([self.param_averages[k] for k in self.param_averages])\n",
    "        generation_minimum = np.min([self.param_averages[k] for k in self.param_averages])\n",
    "        generation_minimum_parm = min(self.param_averages,key=self.param_averages.get)\n",
    "        return generation_average, generation_minimum,generation_minimum_parm\n",
    "    \n",
    "    def generate_offspring(self):\n",
    "        # generate offsprings\n",
    "        self.previous_parameter_population = self.parameter_population\n",
    "        self.parameter_population = []\n",
    "        \n",
    "        self.previous_outputs = self.outputs\n",
    "        self.outputs = {}\n",
    "        \n",
    "        for i in range(self.population - int(self.reproduction_rate*self.population)):\n",
    "            min_key = min(self.param_averages,key=self.param_averages.get)\n",
    "            self.parameter_population.append(ast.literal_eval(min_key))\n",
    "            self.outputs[min_key] = self.previous_outputs[min_key]\n",
    "            self.param_averages.pop(min_key)\n",
    "            \n",
    "            \n",
    "        offsprings = []\n",
    "        for i in range(int(self.reproduction_rate*self.population) - int(self.mutation_rate*self.population)):\n",
    "            # select parents\n",
    "            choices = np.random.choice(list(self.param_averages.keys()), 5)\n",
    "            choices = {str(k):self.param_averages[str(k)] for k in choices}\n",
    "\n",
    "            parent_1_key = min(choices,key=choices.get)\n",
    "            parent_1 = ast.literal_eval(parent_1_key)\n",
    "            choices.pop(parent_1_key)\n",
    "            \n",
    "            parent_2_key = min(choices,key=choices.get)\n",
    "            parent_2 = ast.literal_eval(parent_2_key)\n",
    "\n",
    "            # random cross over\n",
    "            offspring = {k: np.random.choice([parent_1[k],parent_2[k]]) for k in self.param_names}\n",
    "            while offspring in self.parameter_population:\n",
    "                # generate parents\n",
    "                choices = np.random.choice(list(self.param_averages.keys()), 5)\n",
    "                choices = {str(k):self.param_averages[str(k)] for k in choices}\n",
    "                parent_1_key = min(choices,key=choices.get)\n",
    "                parent_1 = ast.literal_eval(parent_1_key)\n",
    "                choices.pop(parent_1_key)\n",
    "                parent_2_key = min(choices,key=choices.get)\n",
    "                parent_2 = ast.literal_eval(parent_2_key)\n",
    "                # random cross over\n",
    "                offspring = {k: np.random.choice([parent_1[k],parent_2[k]]) for k in self.param_names}\n",
    "            offsprings.append(offspring)\n",
    "            self.parameter_population.append(offspring)\n",
    "            \n",
    "        # create mutants\n",
    "        for i in range(int(self.mutation_rate*self.population)):\n",
    "            offspring_mutant = self.generate_random_params(1)\n",
    "            while offspring_mutant[0] in self.parameter_population:\n",
    "                offspring_mutant = self.generate_random_params(1)\n",
    "            offsprings.append(offspring_mutant[0])\n",
    "            self.parameter_population.append(offspring_mutant[0])\n",
    "            \n",
    "        print(\"im here\")\n",
    "        return offsprings\n",
    "            \n",
    "    def kill_parameters(self):\n",
    "        self.param_averages = {k: np.average([i[1] for i in self.outputs[k]]) for k in self.outputs}\n",
    "        for i in range(len(self.parameter_population) - self.population):\n",
    "            max_key = max(EA.param_averages,key=EA.param_averages.get)\n",
    "            self.parameter_population.remove(ast.literal_eval(max_key))\n",
    "            self.outputs.pop(max_key)\n",
    "            self.param_averages.pop(max_key)"
   ]
  },
  {
   "cell_type": "markdown",
   "metadata": {},
   "source": [
    "### Ideal Error Measurement"
   ]
  },
  {
   "cell_type": "code",
   "execution_count": 4,
   "metadata": {},
   "outputs": [],
   "source": [
    "output_metrics={\n",
    "                \"green_fract\": 0.4403066,\n",
    "                \"red_fract\": 0.3755106,\n",
    "                \"blue_fract\": 0.003061229,\n",
    "                \"num_green_regions\": 1.285714,\n",
    "                \"avg_green_region_area\": 0.359481,\n",
    "                \"num_red_regions\": 2.928571,\n",
    "                \"avg_red_region_area\": 0.1027045\n",
    "                }"
   ]
  },
  {
   "cell_type": "code",
   "execution_count": 5,
   "metadata": {},
   "outputs": [],
   "source": [
    "exp_metrics={\n",
    "                \"green_fract\": 0.48224608,\n",
    "                    \"red_fract\": 0.370580433,\n",
    "                    \"blue_fract\": 0.274062823,\n",
    "                    \"num_green_regions\": 1,\n",
    "                    \"avg_green_region_area\": 0.58,\n",
    "                    \"num_red_regions\": 2.1,\n",
    "                    \"avg_red_region_area\": 0.24\n",
    "            }"
   ]
  },
  {
   "cell_type": "code",
   "execution_count": 6,
   "metadata": {},
   "outputs": [],
   "source": [
    "output_metrics = list(output_metrics.values())\n",
    "exp_metrics = list(exp_metrics.values())\n",
    "individual_errors = np.abs(np.array(output_metrics) - np.array(exp_metrics))\n",
    "error = np.exp(individual_errors.sum())**2"
   ]
  },
  {
   "cell_type": "code",
   "execution_count": 7,
   "metadata": {},
   "outputs": [
    {
     "data": {
      "text/plain": [
       "35.87144166062016"
      ]
     },
     "execution_count": 7,
     "metadata": {},
     "output_type": "execute_result"
    }
   ],
   "source": [
    "error"
   ]
  },
  {
   "cell_type": "markdown",
   "metadata": {},
   "source": [
    "# Running the Evolutionary Algorithm"
   ]
  },
  {
   "cell_type": "markdown",
   "metadata": {},
   "source": [
    "### Tuning Exp-Expression-Const and Homotypic-Prob for all Output Metrics"
   ]
  },
  {
   "cell_type": "code",
   "execution_count": 8,
   "metadata": {},
   "outputs": [],
   "source": [
    "nl4py.startServer(\"/Applications/NetLogo 6.0.4/\")"
   ]
  },
  {
   "cell_type": "code",
   "execution_count": 9,
   "metadata": {},
   "outputs": [
    {
     "name": "stdout",
     "output_type": "stream",
     "text": [
      "{'exp-expression-const': [0, 5, 10, 15, 20, 25, 30, 35, 40, 45, 50, 55, 60, 65, 70, 75, 80, 85, 90, 95, 100], 'homotypic-prob': [0, 5, 10, 15, 20, 25, 30, 35, 40, 45, 50, 55, 60, 65, 70, 75, 80, 85, 90, 95, 100]}\n"
     ]
    }
   ],
   "source": [
    "num_cores = 4\n",
    "model_path = \"Users/niki/Dropbox/Nikita/College/Projects/Lazzara Lab/ABM_Wendell&Lim/Circuit_ABCD_Asymm_01/Callibrate-ABM-HPC/Circuit_ABCD_Asymm_3.1_ParameterTuning.nlogo\"\n",
    "population = 20\n",
    "generations= 10\n",
    "reproduction_rate = 0.8\n",
    "mutation_rate = 0.25\n",
    "iterations = 10\n",
    "max_steps = 100\n",
    "\n",
    "EA = EvolutionaryAlgorithm(num_cores,model_path,population,generations,reproduction_rate,mutation_rate,\n",
    "                           iterations,max_steps)"
   ]
  },
  {
   "cell_type": "code",
   "execution_count": 10,
   "metadata": {
    "scrolled": true
   },
   "outputs": [
    {
     "name": "stdout",
     "output_type": "stream",
     "text": [
      "---Generation 0---\n",
      "generation_average: 5530.379520051964\n",
      "generation_minimum: 50.59200181468202\n",
      "{'exp-expression-const': 10, 'homotypic-prob': 70}\n",
      "20\n",
      "20\n",
      "im here\n",
      "I ran the model.\n",
      "---Generation 1---\n",
      "generation_average: 2896.6469595551794\n",
      "generation_minimum: 50.59200181468202\n",
      "{'exp-expression-const': 10, 'homotypic-prob': 70}\n",
      "20\n",
      "20\n",
      "im here\n",
      "I ran the model.\n",
      "---Generation 2---\n",
      "generation_average: 1811.582329662293\n",
      "generation_minimum: 50.59200181468202\n",
      "{'exp-expression-const': 10, 'homotypic-prob': 70}\n",
      "20\n",
      "20\n",
      "im here\n",
      "I ran the model.\n",
      "---Generation 3---\n",
      "generation_average: 2271.4203957861546\n",
      "generation_minimum: 50.59200181468202\n",
      "{'exp-expression-const': 10, 'homotypic-prob': 70}\n",
      "20\n",
      "20\n",
      "im here\n",
      "I ran the model.\n",
      "---Generation 4---\n",
      "generation_average: 755.477582391477\n",
      "generation_minimum: 50.59200181468202\n",
      "{'exp-expression-const': 10, 'homotypic-prob': 70}\n",
      "20\n",
      "20\n",
      "im here\n",
      "I ran the model.\n",
      "---Generation 5---\n",
      "generation_average: 2977.065950707988\n",
      "generation_minimum: 50.59200181468202\n",
      "{'exp-expression-const': 10, 'homotypic-prob': 70}\n",
      "20\n",
      "20\n",
      "im here\n",
      "I ran the model.\n",
      "---Generation 6---\n",
      "generation_average: 3254.8691078152187\n",
      "generation_minimum: 50.59200181468202\n",
      "{'exp-expression-const': 10, 'homotypic-prob': 70}\n",
      "20\n",
      "20\n",
      "im here\n",
      "I ran the model.\n",
      "---Generation 7---\n",
      "generation_average: 9411.150509856905\n",
      "generation_minimum: 50.59200181468202\n",
      "{'exp-expression-const': 10, 'homotypic-prob': 70}\n",
      "20\n",
      "20\n",
      "im here\n",
      "I ran the model.\n",
      "---Generation 8---\n",
      "generation_average: 717.7747077408748\n",
      "generation_minimum: 50.59200181468202\n",
      "{'exp-expression-const': 10, 'homotypic-prob': 70}\n",
      "20\n",
      "20\n",
      "im here\n",
      "I ran the model.\n",
      "---Generation 9---\n",
      "generation_average: 2317.122014483959\n",
      "generation_minimum: 50.59200181468202\n",
      "{'exp-expression-const': 10, 'homotypic-prob': 70}\n",
      "20\n",
      "20\n",
      "im here\n",
      "I ran the model.\n",
      "---Generation 10---\n",
      "generation_average: 2506.542506238538\n",
      "generation_minimum: 50.59200181468202\n",
      "{'exp-expression-const': 10, 'homotypic-prob': 70}\n"
     ]
    }
   ],
   "source": [
    "EA_results_exp_error = EA.EA()"
   ]
  },
  {
   "cell_type": "code",
   "execution_count": 11,
   "metadata": {},
   "outputs": [
    {
     "name": "stdout",
     "output_type": "stream",
     "text": [
      "{'exp-expression-const': [0, 5, 10, 15, 20, 25, 30, 35, 40, 45, 50, 55, 60, 65, 70, 75, 80, 85, 90, 95, 100], 'homotypic-prob': [0, 5, 10, 15, 20, 25, 30, 35, 40, 45, 50, 55, 60, 65, 70, 75, 80, 85, 90, 95, 100]}\n"
     ]
    }
   ],
   "source": [
    "num_cores = 4\n",
    "model_path = \"Users/niki/Dropbox/Nikita/College/Projects/Lazzara Lab/ABM_Wendell&Lim/Circuit_ABCD_Asymm_01/Callibrate-ABM-HPC/Circuit_ABCD_Asymm_3.1_ParameterTuning.nlogo\"\n",
    "population = 20\n",
    "generations= 100\n",
    "reproduction_rate = 0.8\n",
    "mutation_rate = 0.25\n",
    "iterations = 10\n",
    "max_steps = 100\n",
    "\n",
    "EA_30_gen = EvolutionaryAlgorithm(num_cores,model_path,population,generations,reproduction_rate,mutation_rate,\n",
    "                           iterations,max_steps)"
   ]
  },
  {
   "cell_type": "code",
   "execution_count": 12,
   "metadata": {},
   "outputs": [
    {
     "name": "stdout",
     "output_type": "stream",
     "text": [
      "---Generation 0---\n",
      "generation_average: 4279.282172296248\n",
      "generation_minimum: 190.35857350436854\n",
      "{'exp-expression-const': 50, 'homotypic-prob': 30}\n",
      "20\n",
      "20\n",
      "im here\n",
      "I ran the model.\n",
      "---Generation 1---\n",
      "generation_average: 1303.9619078665712\n",
      "generation_minimum: 190.35857350436854\n",
      "{'exp-expression-const': 50, 'homotypic-prob': 30}\n",
      "20\n",
      "20\n",
      "im here\n",
      "I ran the model.\n",
      "---Generation 2---\n",
      "generation_average: 977.3059416759392\n",
      "generation_minimum: 103.82005861300154\n",
      "{'exp-expression-const': 30, 'homotypic-prob': 70}\n",
      "20\n",
      "20\n",
      "im here\n",
      "I ran the model.\n",
      "---Generation 3---\n",
      "generation_average: 1663.940973110557\n",
      "generation_minimum: 59.45183094012581\n",
      "{'exp-expression-const': 35, 'homotypic-prob': 80}\n",
      "20\n",
      "20\n",
      "im here\n",
      "I ran the model.\n",
      "---Generation 4---\n",
      "generation_average: 1174.6508727183295\n",
      "generation_minimum: 46.093824368886494\n",
      "{'exp-expression-const': 15, 'homotypic-prob': 55}\n",
      "20\n",
      "20\n",
      "im here\n",
      "I ran the model.\n",
      "---Generation 5---\n",
      "generation_average: 4549.2359077086385\n",
      "generation_minimum: 46.093824368886494\n",
      "{'exp-expression-const': 15, 'homotypic-prob': 55}\n",
      "20\n",
      "20\n",
      "im here\n",
      "I ran the model.\n",
      "---Generation 6---\n",
      "generation_average: 8944.819859827068\n",
      "generation_minimum: 46.093824368886494\n",
      "{'exp-expression-const': 15, 'homotypic-prob': 55}\n",
      "20\n",
      "20\n",
      "im here\n",
      "I ran the model.\n",
      "---Generation 7---\n",
      "generation_average: 4061.10211912087\n",
      "generation_minimum: 46.093824368886494\n",
      "{'exp-expression-const': 15, 'homotypic-prob': 55}\n",
      "20\n",
      "20\n",
      "im here\n",
      "I ran the model.\n",
      "---Generation 8---\n",
      "generation_average: 4462.703358403407\n",
      "generation_minimum: 46.093824368886494\n",
      "{'exp-expression-const': 15, 'homotypic-prob': 55}\n",
      "20\n",
      "20\n",
      "im here\n",
      "I ran the model.\n",
      "---Generation 9---\n",
      "generation_average: 956.0064105509331\n",
      "generation_minimum: 46.093824368886494\n",
      "{'exp-expression-const': 15, 'homotypic-prob': 55}\n",
      "20\n",
      "20\n",
      "im here\n",
      "I ran the model.\n",
      "---Generation 10---\n",
      "generation_average: 2624.0891948244157\n",
      "generation_minimum: 46.093824368886494\n",
      "{'exp-expression-const': 15, 'homotypic-prob': 55}\n",
      "20\n",
      "20\n",
      "im here\n",
      "I ran the model.\n",
      "---Generation 11---\n",
      "generation_average: 2427.996700606681\n",
      "generation_minimum: 46.093824368886494\n",
      "{'exp-expression-const': 15, 'homotypic-prob': 55}\n",
      "20\n",
      "20\n",
      "im here\n",
      "I ran the model.\n",
      "---Generation 12---\n",
      "generation_average: 7467.15985367252\n",
      "generation_minimum: 46.093824368886494\n",
      "{'exp-expression-const': 15, 'homotypic-prob': 55}\n",
      "20\n",
      "20\n",
      "im here\n",
      "I ran the model.\n",
      "---Generation 13---\n",
      "generation_average: 2365.593172625626\n",
      "generation_minimum: 46.093824368886494\n",
      "{'exp-expression-const': 15, 'homotypic-prob': 55}\n",
      "20\n",
      "20\n",
      "im here\n",
      "I ran the model.\n",
      "---Generation 14---\n",
      "generation_average: 1200.071744105649\n",
      "generation_minimum: 46.093824368886494\n",
      "{'exp-expression-const': 15, 'homotypic-prob': 55}\n",
      "20\n",
      "20\n",
      "im here\n",
      "I ran the model.\n",
      "---Generation 15---\n",
      "generation_average: 1080.605760405389\n",
      "generation_minimum: 46.093824368886494\n",
      "{'exp-expression-const': 15, 'homotypic-prob': 55}\n",
      "20\n",
      "20\n",
      "im here\n",
      "I ran the model.\n",
      "---Generation 16---\n",
      "generation_average: 794.8993287195117\n",
      "generation_minimum: 46.093824368886494\n",
      "{'exp-expression-const': 15, 'homotypic-prob': 55}\n",
      "20\n",
      "20\n",
      "im here\n",
      "I ran the model.\n",
      "---Generation 17---\n",
      "generation_average: 2594.0994439143783\n",
      "generation_minimum: 46.093824368886494\n",
      "{'exp-expression-const': 15, 'homotypic-prob': 55}\n",
      "20\n",
      "20\n",
      "im here\n",
      "I ran the model.\n",
      "---Generation 18---\n",
      "generation_average: 1940.3020330937823\n",
      "generation_minimum: 46.093824368886494\n",
      "{'exp-expression-const': 15, 'homotypic-prob': 55}\n",
      "20\n",
      "20\n",
      "im here\n",
      "I ran the model.\n",
      "---Generation 19---\n",
      "generation_average: 2276.9090126832257\n",
      "generation_minimum: 46.093824368886494\n",
      "{'exp-expression-const': 15, 'homotypic-prob': 55}\n",
      "20\n",
      "20\n",
      "im here\n",
      "I ran the model.\n",
      "---Generation 20---\n",
      "generation_average: 621.1503099010826\n",
      "generation_minimum: 27.949025105932826\n",
      "{'exp-expression-const': 30, 'homotypic-prob': 40}\n",
      "20\n",
      "20\n",
      "im here\n",
      "I ran the model.\n",
      "---Generation 21---\n",
      "generation_average: 2718.3053477434564\n",
      "generation_minimum: 27.949025105932826\n",
      "{'exp-expression-const': 30, 'homotypic-prob': 40}\n",
      "20\n",
      "20\n",
      "im here\n",
      "I ran the model.\n",
      "---Generation 22---\n",
      "generation_average: 2450.753489017986\n",
      "generation_minimum: 27.949025105932826\n",
      "{'exp-expression-const': 30, 'homotypic-prob': 40}\n",
      "20\n",
      "20\n",
      "im here\n",
      "I ran the model.\n",
      "---Generation 23---\n",
      "generation_average: 665.1208549152344\n",
      "generation_minimum: 27.949025105932826\n",
      "{'exp-expression-const': 30, 'homotypic-prob': 40}\n",
      "20\n",
      "20\n",
      "im here\n",
      "I ran the model.\n",
      "---Generation 24---\n",
      "generation_average: 1961.091570189606\n",
      "generation_minimum: 14.28663897277095\n",
      "{'exp-expression-const': 25, 'homotypic-prob': 100}\n",
      "20\n",
      "20\n",
      "im here\n",
      "I ran the model.\n",
      "---Generation 25---\n",
      "generation_average: 1787.544010281746\n",
      "generation_minimum: 14.28663897277095\n",
      "{'exp-expression-const': 25, 'homotypic-prob': 100}\n",
      "20\n",
      "20\n",
      "im here\n",
      "I ran the model.\n",
      "---Generation 26---\n",
      "generation_average: 930.9973551537014\n",
      "generation_minimum: 14.28663897277095\n",
      "{'exp-expression-const': 25, 'homotypic-prob': 100}\n",
      "20\n",
      "20\n",
      "im here\n",
      "I ran the model.\n",
      "---Generation 27---\n",
      "generation_average: 1186.1179485365842\n",
      "generation_minimum: 14.28663897277095\n",
      "{'exp-expression-const': 25, 'homotypic-prob': 100}\n",
      "20\n",
      "20\n",
      "im here\n",
      "I ran the model.\n",
      "---Generation 28---\n",
      "generation_average: 734.1148717245889\n",
      "generation_minimum: 14.28663897277095\n",
      "{'exp-expression-const': 25, 'homotypic-prob': 100}\n",
      "20\n",
      "20\n",
      "im here\n",
      "I ran the model.\n",
      "---Generation 29---\n",
      "generation_average: 656.78269679689\n",
      "generation_minimum: 14.28663897277095\n",
      "{'exp-expression-const': 25, 'homotypic-prob': 100}\n",
      "20\n",
      "20\n",
      "im here\n",
      "I ran the model.\n",
      "---Generation 30---\n",
      "generation_average: 7551.0169007904215\n",
      "generation_minimum: 14.28663897277095\n",
      "{'exp-expression-const': 25, 'homotypic-prob': 100}\n"
     ]
    }
   ],
   "source": [
    "EA_results_30_gen_exp_error = EA_30_gen.EA()"
   ]
  },
  {
   "cell_type": "code",
   "execution_count": 17,
   "metadata": {},
   "outputs": [],
   "source": [
    "EA_results_30_gen_param_averages =[{key: np.average([i[1] for i in j[key]]) for key in j} for j in EA_results_30_gen_exp_error]"
   ]
  },
  {
   "cell_type": "code",
   "execution_count": 18,
   "metadata": {},
   "outputs": [],
   "source": [
    "EA_results_30_gen_mean_error=[np.mean([j[k] for k in j]) for j in EA_results_30_gen_param_averages]"
   ]
  },
  {
   "cell_type": "code",
   "execution_count": 19,
   "metadata": {},
   "outputs": [],
   "source": [
    "EA_results_30_gen_min_error=[np.min([j[k] for k in j]) for j in EA_results_30_gen_param_averages]"
   ]
  },
  {
   "cell_type": "code",
   "execution_count": 20,
   "metadata": {},
   "outputs": [
    {
     "data": {
      "text/plain": [
       "Text(0, 0.5, 'Exponentially-Scaled Error')"
      ]
     },
     "execution_count": 20,
     "metadata": {},
     "output_type": "execute_result"
    },
    {
     "data": {
      "image/png": "[encoded data removed]",
      "text/plain": [
       "<Figure size 432x288 with 1 Axes>"
      ]
     },
     "metadata": {
      "needs_background": "light"
     },
     "output_type": "display_data"
    }
   ],
   "source": [
    "import matplotlib.pyplot as plt\n",
    "plt.plot(range(31),EA_results_30_gen_min_error)\n",
    "plt.title(\"Minimum Error for Each Generation\")\n",
    "plt.xlabel(\"Generations\")\n",
    "plt.ylabel(\"Exponentially-Scaled Error\")"
   ]
  },
  {
   "cell_type": "markdown",
   "metadata": {},
   "source": [
    "# Read in Files from Rivanna"
   ]
  },
  {
   "cell_type": "code",
   "execution_count": 7,
   "metadata": {},
   "outputs": [
    {
     "data": {
      "image/png": "[encoded data removed]",
      "text/plain": [
       "<Figure size 432x288 with 1 Axes>"
      ]
     },
     "metadata": {
      "needs_background": "light"
     },
     "output_type": "display_data"
    }
   ],
   "source": [
    "import matplotlib.pyplot as plt\n",
    "import os\n",
    "rootdir = 'Users/niki/Dropbox/Nikita/College/Projects/Lazzara Lab/ABM_Wendell&Lim/Circuit_ABCD_Asymm_01/Callibrate-ABM-HPC/EA_ExponentialError_HomotypicProb-ExpExpressionConst/'\n",
    "first_min_errors = []\n",
    "last_min_errors = []\n",
    "gen_min_errors = [500]*100\n",
    "gen_max_errors = [0]*100\n",
    "first_params = []\n",
    "last_params = []\n",
    "for file in os.listdir(rootdir):\n",
    "    if file[-1] == 't':\n",
    "#         print(file)\n",
    "        results_path = os.path.join(rootdir, file)\n",
    "        results = open(results_path)\n",
    "        results = results.read()\n",
    "        results = results[results.find('[{\"'):-1]\n",
    "#         print(results)\n",
    "        results = results.replace('\\n','')\n",
    "        results = results.replace('array(','')\n",
    "        results = results.replace(')','')\n",
    "        results = results.replace(' ','')\n",
    "        results_pop_20_gen_100 = list(eval(results))\n",
    "        results_pop_20_gen_100_param_averages=[{key: np.average([i[1] for i in j[key]]) for key in j} for j in results_pop_20_gen_100]\n",
    "        results_pop_20_gen_100_mean_error=[np.mean([j[k] for k in j]) for j in results_pop_20_gen_100_param_averages]\n",
    "        results_pop_20_gen_100_min_error=[np.min([j[k] for k in j]) for j in results_pop_20_gen_100_param_averages]\n",
    "        \n",
    "        for i in range(100):\n",
    "            if results_pop_20_gen_100_min_error[i] < gen_min_errors[i]:\n",
    "                gen_min_errors[i] = results_pop_20_gen_100_min_error[i]\n",
    "            if results_pop_20_gen_100_min_error[i] > gen_max_errors[i]:\n",
    "                gen_max_errors[i] = results_pop_20_gen_100_min_error[i]\n",
    "        first_min_errors.append(results_pop_20_gen_100_min_error[0])\n",
    "        last_min_errors.append(results_pop_20_gen_100_min_error[100])\n",
    "        first_params.append(min(results_pop_20_gen_100_param_averages[0],key=results_pop_20_gen_100_param_averages[0].get))\n",
    "        last_params.append(min(results_pop_20_gen_100_param_averages[100],key=results_pop_20_gen_100_param_averages[100].get))\n",
    "        \n",
    "        plt.plot(range(101),results_pop_20_gen_100_min_error,color=\"#8E8E8E\",alpha=0.7)\n",
    "plt.fill_between(range(100),gen_min_errors,gen_max_errors,color=\"#ED853A\",alpha=0.5)\n",
    "# plt.title(\"Minimum Error Over 100 Generations for 30 EA Runs\")\n",
    "# plt.xlabel(\"Generation\")\n",
    "# plt.ylabel(\"Exponentially-Scaled Error\")\n",
    "plt.savefig('Minimum_Error_Over_100_Generations_for_30_EA_Runs.pdf')  "
   ]
  },
  {
   "cell_type": "code",
   "execution_count": 21,
   "metadata": {},
   "outputs": [
    {
     "data": {
      "image/png": "[encoded data removed]",
      "text/plain": [
       "<Figure size 432x288 with 1 Axes>"
      ]
     },
     "metadata": {
      "needs_background": "light"
     },
     "output_type": "display_data"
    }
   ],
   "source": [
    "plt.fill_between(range(100),gen_min_errors,gen_max_errors,color=\"#ED853A\",alpha=0.7)\n",
    "plt.title(\"Minimum Error Over 100 Generations for 30 EA Runs\")\n",
    "plt.xlabel(\"Generation\")\n",
    "plt.ylabel(\"Exponentially-Scaled Error\")\n",
    "plt.savefig('Minimum_Error_Over_100_Generations_for_30_EA_Runs.pdf')  "
   ]
  },
  {
   "cell_type": "code",
   "execution_count": 62,
   "metadata": {},
   "outputs": [
    {
     "data": {
      "text/plain": [
       "[\"{'exp-expression-const':85,'homotypic-prob':35}\",\n",
       " \"{'exp-expression-const':75,'homotypic-prob':85}\",\n",
       " \"{'exp-expression-const':40,'homotypic-prob':100}\",\n",
       " \"{'exp-expression-const':85,'homotypic-prob':85}\",\n",
       " \"{'exp-expression-const':25,'homotypic-prob':55}\",\n",
       " \"{'exp-expression-const':10,'homotypic-prob':25}\",\n",
       " \"{'exp-expression-const':25,'homotypic-prob':55}\",\n",
       " \"{'exp-expression-const':75,'homotypic-prob':40}\",\n",
       " \"{'exp-expression-const':10,'homotypic-prob':55}\",\n",
       " \"{'exp-expression-const':10,'homotypic-prob':100}\",\n",
       " \"{'exp-expression-const':10,'homotypic-prob':35}\",\n",
       " \"{'exp-expression-const':35,'homotypic-prob':20}\",\n",
       " \"{'exp-expression-const':75,'homotypic-prob':35}\",\n",
       " \"{'exp-expression-const':55,'homotypic-prob':95}\",\n",
       " \"{'exp-expression-const':20,'homotypic-prob':65}\",\n",
       " \"{'exp-expression-const':30,'homotypic-prob':100}\",\n",
       " \"{'exp-expression-const':65,'homotypic-prob':55}\",\n",
       " \"{'exp-expression-const':20,'homotypic-prob':65}\",\n",
       " \"{'exp-expression-const':45,'homotypic-prob':95}\",\n",
       " \"{'exp-expression-const':15,'homotypic-prob':80}\",\n",
       " \"{'exp-expression-const':40,'homotypic-prob':70}\",\n",
       " \"{'exp-expression-const':35,'homotypic-prob':55}\",\n",
       " \"{'exp-expression-const':10,'homotypic-prob':85}\",\n",
       " \"{'exp-expression-const':30,'homotypic-prob':70}\",\n",
       " \"{'exp-expression-const':35,'homotypic-prob':45}\",\n",
       " \"{'exp-expression-const':40,'homotypic-prob':55}\",\n",
       " \"{'exp-expression-const':45,'homotypic-prob':15}\",\n",
       " \"{'exp-expression-const':45,'homotypic-prob':70}\",\n",
       " \"{'exp-expression-const':85,'homotypic-prob':30}\"]"
      ]
     },
     "execution_count": 62,
     "metadata": {},
     "output_type": "execute_result"
    }
   ],
   "source": [
    "first_params"
   ]
  },
  {
   "cell_type": "code",
   "execution_count": 63,
   "metadata": {},
   "outputs": [
    {
     "data": {
      "text/plain": [
       "[\"{'exp-expression-const':20,'homotypic-prob':100}\",\n",
       " \"{'exp-expression-const':20,'homotypic-prob':65}\",\n",
       " \"{'exp-expression-const':75,'homotypic-prob':80}\",\n",
       " \"{'exp-expression-const':20,'homotypic-prob':85}\",\n",
       " \"{'exp-expression-const':30,'homotypic-prob':100}\",\n",
       " \"{'exp-expression-const':15,'homotypic-prob':20}\",\n",
       " \"{'exp-expression-const':30,'homotypic-prob':70}\",\n",
       " \"{'exp-expression-const':20,'homotypic-prob':95}\",\n",
       " \"{'exp-expression-const':25,'homotypic-prob':80}\",\n",
       " \"{'exp-expression-const':20,'homotypic-prob':70}\",\n",
       " \"{'exp-expression-const':25,'homotypic-prob':90}\",\n",
       " \"{'exp-expression-const':30,'homotypic-prob':55}\",\n",
       " \"{'exp-expression-const':30,'homotypic-prob':30}\",\n",
       " \"{'exp-expression-const':20,'homotypic-prob':40}\",\n",
       " \"{'exp-expression-const':20,'homotypic-prob':65}\",\n",
       " \"{'exp-expression-const':20,'homotypic-prob':95}\",\n",
       " \"{'exp-expression-const':20,'homotypic-prob':80}\",\n",
       " \"{'exp-expression-const':25,'homotypic-prob':50}\",\n",
       " \"{'exp-expression-const':20,'homotypic-prob':80}\",\n",
       " \"{'exp-expression-const':25,'homotypic-prob':65}\",\n",
       " \"{'exp-expression-const':20,'homotypic-prob':50}\",\n",
       " \"{'exp-expression-const':15,'homotypic-prob':95}\",\n",
       " \"{'exp-expression-const':30,'homotypic-prob':65}\",\n",
       " \"{'exp-expression-const':20,'homotypic-prob':40}\",\n",
       " \"{'exp-expression-const':20,'homotypic-prob':95}\",\n",
       " \"{'exp-expression-const':20,'homotypic-prob':100}\",\n",
       " \"{'exp-expression-const':25,'homotypic-prob':85}\",\n",
       " \"{'exp-expression-const':20,'homotypic-prob':35}\",\n",
       " \"{'exp-expression-const':25,'homotypic-prob':80}\"]"
      ]
     },
     "execution_count": 63,
     "metadata": {},
     "output_type": "execute_result"
    }
   ],
   "source": [
    "last_params"
   ]
  },
  {
   "cell_type": "code",
   "execution_count": 66,
   "metadata": {},
   "outputs": [
    {
     "data": {
      "text/plain": [
       "32.17627055829688"
      ]
     },
     "execution_count": 66,
     "metadata": {},
     "output_type": "execute_result"
    }
   ],
   "source": [
    "min(first_min_errors)"
   ]
  },
  {
   "cell_type": "code",
   "execution_count": 67,
   "metadata": {},
   "outputs": [
    {
     "data": {
      "text/plain": [
       "314.7038763982901"
      ]
     },
     "execution_count": 67,
     "metadata": {},
     "output_type": "execute_result"
    }
   ],
   "source": [
    "max(first_min_errors)"
   ]
  },
  {
   "cell_type": "code",
   "execution_count": 68,
   "metadata": {},
   "outputs": [
    {
     "data": {
      "text/plain": [
       "6.864920780836743"
      ]
     },
     "execution_count": 68,
     "metadata": {},
     "output_type": "execute_result"
    }
   ],
   "source": [
    "min(last_min_errors)"
   ]
  },
  {
   "cell_type": "code",
   "execution_count": 69,
   "metadata": {},
   "outputs": [
    {
     "data": {
      "text/plain": [
       "39.25669481751965"
      ]
     },
     "execution_count": 69,
     "metadata": {},
     "output_type": "execute_result"
    }
   ],
   "source": [
    "max(last_min_errors)"
   ]
  },
  {
   "cell_type": "code",
   "execution_count": 76,
   "metadata": {},
   "outputs": [],
   "source": [
    "upper_thresh = np.quantile(last_min_errors,0.5) + 1.5*(np.quantile(last_min_errors,0.75) - np.quantile(last_min_errors,0.25))\n",
    "lower_thresh = np.quantile(last_min_errors,0.5) - 1.5*(np.quantile(last_min_errors,0.75) - np.quantile(last_min_errors,0.25))"
   ]
  },
  {
   "cell_type": "code",
   "execution_count": 75,
   "metadata": {},
   "outputs": [
    {
     "data": {
      "text/plain": [
       "array([False, False,  True, False, False, False, False, False, False,\n",
       "       False, False,  True, False, False, False,  True, False, False,\n",
       "       False, False, False, False, False, False, False, False,  True,\n",
       "       False, False])"
      ]
     },
     "execution_count": 75,
     "metadata": {},
     "output_type": "execute_result"
    }
   ],
   "source": [
    "last_min_errors > upper_thresh"
   ]
  },
  {
   "cell_type": "code",
   "execution_count": 78,
   "metadata": {},
   "outputs": [
    {
     "data": {
      "text/plain": [
       "array([False, False, False, False, False, False, False,  True, False,\n",
       "       False, False, False, False, False, False, False, False, False,\n",
       "       False, False, False, False, False, False, False, False, False,\n",
       "       False, False])"
      ]
     },
     "execution_count": 78,
     "metadata": {},
     "output_type": "execute_result"
    }
   ],
   "source": [
    "last_min_errors < lower_thresh"
   ]
  },
  {
   "cell_type": "code",
   "execution_count": 84,
   "metadata": {},
   "outputs": [
    {
     "data": {
      "text/plain": [
       "array([\"{'exp-expression-const':85,'homotypic-prob':35}\",\n",
       "       \"{'exp-expression-const':75,'homotypic-prob':85}\",\n",
       "       \"{'exp-expression-const':85,'homotypic-prob':85}\",\n",
       "       \"{'exp-expression-const':25,'homotypic-prob':55}\",\n",
       "       \"{'exp-expression-const':10,'homotypic-prob':25}\",\n",
       "       \"{'exp-expression-const':25,'homotypic-prob':55}\",\n",
       "       \"{'exp-expression-const':10,'homotypic-prob':55}\",\n",
       "       \"{'exp-expression-const':10,'homotypic-prob':100}\",\n",
       "       \"{'exp-expression-const':10,'homotypic-prob':35}\",\n",
       "       \"{'exp-expression-const':75,'homotypic-prob':35}\",\n",
       "       \"{'exp-expression-const':55,'homotypic-prob':95}\",\n",
       "       \"{'exp-expression-const':20,'homotypic-prob':65}\",\n",
       "       \"{'exp-expression-const':65,'homotypic-prob':55}\",\n",
       "       \"{'exp-expression-const':20,'homotypic-prob':65}\",\n",
       "       \"{'exp-expression-const':45,'homotypic-prob':95}\",\n",
       "       \"{'exp-expression-const':15,'homotypic-prob':80}\",\n",
       "       \"{'exp-expression-const':40,'homotypic-prob':70}\",\n",
       "       \"{'exp-expression-const':35,'homotypic-prob':55}\",\n",
       "       \"{'exp-expression-const':10,'homotypic-prob':85}\",\n",
       "       \"{'exp-expression-const':30,'homotypic-prob':70}\",\n",
       "       \"{'exp-expression-const':35,'homotypic-prob':45}\",\n",
       "       \"{'exp-expression-const':40,'homotypic-prob':55}\",\n",
       "       \"{'exp-expression-const':45,'homotypic-prob':70}\",\n",
       "       \"{'exp-expression-const':85,'homotypic-prob':30}\"], dtype='<U48')"
      ]
     },
     "execution_count": 84,
     "metadata": {},
     "output_type": "execute_result"
    }
   ],
   "source": [
    "first_params = np.array(first_params)\n",
    "first_params[(lower_thresh < last_min_errors) & (last_min_errors < upper_thresh)]"
   ]
  },
  {
   "cell_type": "code",
   "execution_count": 87,
   "metadata": {},
   "outputs": [
    {
     "data": {
      "text/plain": [
       "array([\"{'exp-expression-const':20,'homotypic-prob':100}\",\n",
       "       \"{'exp-expression-const':20,'homotypic-prob':65}\",\n",
       "       \"{'exp-expression-const':20,'homotypic-prob':85}\",\n",
       "       \"{'exp-expression-const':30,'homotypic-prob':100}\",\n",
       "       \"{'exp-expression-const':15,'homotypic-prob':20}\",\n",
       "       \"{'exp-expression-const':30,'homotypic-prob':70}\",\n",
       "       \"{'exp-expression-const':25,'homotypic-prob':80}\",\n",
       "       \"{'exp-expression-const':20,'homotypic-prob':70}\",\n",
       "       \"{'exp-expression-const':25,'homotypic-prob':90}\",\n",
       "       \"{'exp-expression-const':30,'homotypic-prob':30}\",\n",
       "       \"{'exp-expression-const':20,'homotypic-prob':40}\",\n",
       "       \"{'exp-expression-const':20,'homotypic-prob':65}\",\n",
       "       \"{'exp-expression-const':20,'homotypic-prob':80}\",\n",
       "       \"{'exp-expression-const':25,'homotypic-prob':50}\",\n",
       "       \"{'exp-expression-const':20,'homotypic-prob':80}\",\n",
       "       \"{'exp-expression-const':25,'homotypic-prob':65}\",\n",
       "       \"{'exp-expression-const':20,'homotypic-prob':50}\",\n",
       "       \"{'exp-expression-const':15,'homotypic-prob':95}\",\n",
       "       \"{'exp-expression-const':30,'homotypic-prob':65}\",\n",
       "       \"{'exp-expression-const':20,'homotypic-prob':40}\",\n",
       "       \"{'exp-expression-const':20,'homotypic-prob':95}\",\n",
       "       \"{'exp-expression-const':20,'homotypic-prob':100}\",\n",
       "       \"{'exp-expression-const':20,'homotypic-prob':35}\",\n",
       "       \"{'exp-expression-const':25,'homotypic-prob':80}\"], dtype='<U48')"
      ]
     },
     "execution_count": 87,
     "metadata": {},
     "output_type": "execute_result"
    }
   ],
   "source": [
    "last_params = np.array(last_params)\n",
    "last_params[(lower_thresh < last_min_errors) & (last_min_errors < upper_thresh)]"
   ]
  },
  {
   "cell_type": "code",
   "execution_count": 119,
   "metadata": {},
   "outputs": [],
   "source": [
    "df = pd.DataFrame(columns=[\"First_Error\",\"First_Min_Param\",\"Last_Error\",\"Last_Min_Param\"])"
   ]
  },
  {
   "cell_type": "code",
   "execution_count": 120,
   "metadata": {},
   "outputs": [],
   "source": [
    "df[\"First_Error\"] = first_min_errors\n",
    "df[\"Last_Error\"] = last_min_errors"
   ]
  },
  {
   "cell_type": "code",
   "execution_count": 121,
   "metadata": {},
   "outputs": [],
   "source": [
    "df[\"Last_Min_Param\"] = last_params"
   ]
  },
  {
   "cell_type": "code",
   "execution_count": 122,
   "metadata": {},
   "outputs": [],
   "source": [
    "df[\"First_Min_Param\"] = first_params"
   ]
  },
  {
   "cell_type": "code",
   "execution_count": 123,
   "metadata": {},
   "outputs": [
    {
     "data": {
      "text/plain": [
       "\"{'exp-expression-const':20,'homotypic-prob':95}\""
      ]
     },
     "execution_count": 123,
     "metadata": {},
     "output_type": "execute_result"
    }
   ],
   "source": [
    "df[\"Last_Min_Param\"][np.argmin(df[\"Last_Error\"])]"
   ]
  },
  {
   "cell_type": "code",
   "execution_count": 124,
   "metadata": {},
   "outputs": [
    {
     "data": {
      "text/plain": [
       "\"{'exp-expression-const':35,'homotypic-prob':20}\""
      ]
     },
     "execution_count": 124,
     "metadata": {},
     "output_type": "execute_result"
    }
   ],
   "source": [
    "df[\"First_Min_Param\"][np.argmax(df[\"First_Error\"])]"
   ]
  },
  {
   "cell_type": "code",
   "execution_count": 125,
   "metadata": {},
   "outputs": [
    {
     "data": {
      "text/html": [
       "<div>\n",
       "<style scoped>\n",
       "    .dataframe tbody tr th:only-of-type {\n",
       "        vertical-align: middle;\n",
       "    }\n",
       "\n",
       "    .dataframe tbody tr th {\n",
       "        vertical-align: top;\n",
       "    }\n",
       "\n",
       "    .dataframe thead th {\n",
       "        text-align: right;\n",
       "    }\n",
       "</style>\n",
       "<table border=\"1\" class=\"dataframe\">\n",
       "  <thead>\n",
       "    <tr style=\"text-align: right;\">\n",
       "      <th></th>\n",
       "      <th>First_Error</th>\n",
       "      <th>First_Min_Param</th>\n",
       "      <th>Last_Error</th>\n",
       "      <th>Last_Min_Param</th>\n",
       "    </tr>\n",
       "  </thead>\n",
       "  <tbody>\n",
       "    <tr>\n",
       "      <th>0</th>\n",
       "      <td>95.204053</td>\n",
       "      <td>{'exp-expression-const':85,'homotypic-prob':35}</td>\n",
       "      <td>14.052837</td>\n",
       "      <td>{'exp-expression-const':20,'homotypic-prob':100}</td>\n",
       "    </tr>\n",
       "    <tr>\n",
       "      <th>1</th>\n",
       "      <td>126.277066</td>\n",
       "      <td>{'exp-expression-const':75,'homotypic-prob':85}</td>\n",
       "      <td>14.109651</td>\n",
       "      <td>{'exp-expression-const':20,'homotypic-prob':65}</td>\n",
       "    </tr>\n",
       "    <tr>\n",
       "      <th>2</th>\n",
       "      <td>122.827067</td>\n",
       "      <td>{'exp-expression-const':40,'homotypic-prob':100}</td>\n",
       "      <td>39.256695</td>\n",
       "      <td>{'exp-expression-const':75,'homotypic-prob':80}</td>\n",
       "    </tr>\n",
       "    <tr>\n",
       "      <th>3</th>\n",
       "      <td>143.209334</td>\n",
       "      <td>{'exp-expression-const':85,'homotypic-prob':85}</td>\n",
       "      <td>12.949686</td>\n",
       "      <td>{'exp-expression-const':20,'homotypic-prob':85}</td>\n",
       "    </tr>\n",
       "    <tr>\n",
       "      <th>4</th>\n",
       "      <td>82.329985</td>\n",
       "      <td>{'exp-expression-const':25,'homotypic-prob':55}</td>\n",
       "      <td>13.597257</td>\n",
       "      <td>{'exp-expression-const':30,'homotypic-prob':100}</td>\n",
       "    </tr>\n",
       "    <tr>\n",
       "      <th>5</th>\n",
       "      <td>114.324014</td>\n",
       "      <td>{'exp-expression-const':10,'homotypic-prob':25}</td>\n",
       "      <td>20.203886</td>\n",
       "      <td>{'exp-expression-const':15,'homotypic-prob':20}</td>\n",
       "    </tr>\n",
       "    <tr>\n",
       "      <th>6</th>\n",
       "      <td>103.310767</td>\n",
       "      <td>{'exp-expression-const':25,'homotypic-prob':55}</td>\n",
       "      <td>13.286601</td>\n",
       "      <td>{'exp-expression-const':30,'homotypic-prob':70}</td>\n",
       "    </tr>\n",
       "    <tr>\n",
       "      <th>7</th>\n",
       "      <td>84.851637</td>\n",
       "      <td>{'exp-expression-const':75,'homotypic-prob':40}</td>\n",
       "      <td>6.864921</td>\n",
       "      <td>{'exp-expression-const':20,'homotypic-prob':95}</td>\n",
       "    </tr>\n",
       "    <tr>\n",
       "      <th>8</th>\n",
       "      <td>183.861151</td>\n",
       "      <td>{'exp-expression-const':10,'homotypic-prob':55}</td>\n",
       "      <td>16.617673</td>\n",
       "      <td>{'exp-expression-const':25,'homotypic-prob':80}</td>\n",
       "    </tr>\n",
       "    <tr>\n",
       "      <th>9</th>\n",
       "      <td>86.934269</td>\n",
       "      <td>{'exp-expression-const':10,'homotypic-prob':100}</td>\n",
       "      <td>8.393153</td>\n",
       "      <td>{'exp-expression-const':20,'homotypic-prob':70}</td>\n",
       "    </tr>\n",
       "    <tr>\n",
       "      <th>10</th>\n",
       "      <td>170.006524</td>\n",
       "      <td>{'exp-expression-const':10,'homotypic-prob':35}</td>\n",
       "      <td>21.928221</td>\n",
       "      <td>{'exp-expression-const':25,'homotypic-prob':90}</td>\n",
       "    </tr>\n",
       "    <tr>\n",
       "      <th>11</th>\n",
       "      <td>314.703876</td>\n",
       "      <td>{'exp-expression-const':35,'homotypic-prob':20}</td>\n",
       "      <td>32.457637</td>\n",
       "      <td>{'exp-expression-const':30,'homotypic-prob':55}</td>\n",
       "    </tr>\n",
       "    <tr>\n",
       "      <th>12</th>\n",
       "      <td>74.622328</td>\n",
       "      <td>{'exp-expression-const':75,'homotypic-prob':35}</td>\n",
       "      <td>16.405680</td>\n",
       "      <td>{'exp-expression-const':30,'homotypic-prob':30}</td>\n",
       "    </tr>\n",
       "    <tr>\n",
       "      <th>13</th>\n",
       "      <td>43.848552</td>\n",
       "      <td>{'exp-expression-const':55,'homotypic-prob':95}</td>\n",
       "      <td>18.574847</td>\n",
       "      <td>{'exp-expression-const':20,'homotypic-prob':40}</td>\n",
       "    </tr>\n",
       "    <tr>\n",
       "      <th>14</th>\n",
       "      <td>131.130238</td>\n",
       "      <td>{'exp-expression-const':20,'homotypic-prob':65}</td>\n",
       "      <td>15.105020</td>\n",
       "      <td>{'exp-expression-const':20,'homotypic-prob':65}</td>\n",
       "    </tr>\n",
       "    <tr>\n",
       "      <th>15</th>\n",
       "      <td>115.727786</td>\n",
       "      <td>{'exp-expression-const':30,'homotypic-prob':100}</td>\n",
       "      <td>27.486148</td>\n",
       "      <td>{'exp-expression-const':20,'homotypic-prob':95}</td>\n",
       "    </tr>\n",
       "    <tr>\n",
       "      <th>16</th>\n",
       "      <td>78.326117</td>\n",
       "      <td>{'exp-expression-const':65,'homotypic-prob':55}</td>\n",
       "      <td>14.728648</td>\n",
       "      <td>{'exp-expression-const':20,'homotypic-prob':80}</td>\n",
       "    </tr>\n",
       "    <tr>\n",
       "      <th>17</th>\n",
       "      <td>114.989462</td>\n",
       "      <td>{'exp-expression-const':20,'homotypic-prob':65}</td>\n",
       "      <td>12.404785</td>\n",
       "      <td>{'exp-expression-const':25,'homotypic-prob':50}</td>\n",
       "    </tr>\n",
       "    <tr>\n",
       "      <th>18</th>\n",
       "      <td>95.684661</td>\n",
       "      <td>{'exp-expression-const':45,'homotypic-prob':95}</td>\n",
       "      <td>17.606896</td>\n",
       "      <td>{'exp-expression-const':20,'homotypic-prob':80}</td>\n",
       "    </tr>\n",
       "    <tr>\n",
       "      <th>19</th>\n",
       "      <td>91.094171</td>\n",
       "      <td>{'exp-expression-const':15,'homotypic-prob':80}</td>\n",
       "      <td>19.773356</td>\n",
       "      <td>{'exp-expression-const':25,'homotypic-prob':65}</td>\n",
       "    </tr>\n",
       "    <tr>\n",
       "      <th>20</th>\n",
       "      <td>98.026252</td>\n",
       "      <td>{'exp-expression-const':40,'homotypic-prob':70}</td>\n",
       "      <td>17.510671</td>\n",
       "      <td>{'exp-expression-const':20,'homotypic-prob':50}</td>\n",
       "    </tr>\n",
       "    <tr>\n",
       "      <th>21</th>\n",
       "      <td>100.780959</td>\n",
       "      <td>{'exp-expression-const':35,'homotypic-prob':55}</td>\n",
       "      <td>21.413757</td>\n",
       "      <td>{'exp-expression-const':15,'homotypic-prob':95}</td>\n",
       "    </tr>\n",
       "    <tr>\n",
       "      <th>22</th>\n",
       "      <td>84.786507</td>\n",
       "      <td>{'exp-expression-const':10,'homotypic-prob':85}</td>\n",
       "      <td>20.393665</td>\n",
       "      <td>{'exp-expression-const':30,'homotypic-prob':65}</td>\n",
       "    </tr>\n",
       "    <tr>\n",
       "      <th>23</th>\n",
       "      <td>160.195089</td>\n",
       "      <td>{'exp-expression-const':30,'homotypic-prob':70}</td>\n",
       "      <td>10.715896</td>\n",
       "      <td>{'exp-expression-const':20,'homotypic-prob':40}</td>\n",
       "    </tr>\n",
       "    <tr>\n",
       "      <th>24</th>\n",
       "      <td>32.176271</td>\n",
       "      <td>{'exp-expression-const':35,'homotypic-prob':45}</td>\n",
       "      <td>20.263396</td>\n",
       "      <td>{'exp-expression-const':20,'homotypic-prob':95}</td>\n",
       "    </tr>\n",
       "    <tr>\n",
       "      <th>25</th>\n",
       "      <td>242.330557</td>\n",
       "      <td>{'exp-expression-const':40,'homotypic-prob':55}</td>\n",
       "      <td>14.542544</td>\n",
       "      <td>{'exp-expression-const':20,'homotypic-prob':100}</td>\n",
       "    </tr>\n",
       "    <tr>\n",
       "      <th>26</th>\n",
       "      <td>99.905594</td>\n",
       "      <td>{'exp-expression-const':45,'homotypic-prob':15}</td>\n",
       "      <td>26.916424</td>\n",
       "      <td>{'exp-expression-const':25,'homotypic-prob':85}</td>\n",
       "    </tr>\n",
       "    <tr>\n",
       "      <th>27</th>\n",
       "      <td>116.198048</td>\n",
       "      <td>{'exp-expression-const':45,'homotypic-prob':70}</td>\n",
       "      <td>22.206786</td>\n",
       "      <td>{'exp-expression-const':20,'homotypic-prob':35}</td>\n",
       "    </tr>\n",
       "    <tr>\n",
       "      <th>28</th>\n",
       "      <td>178.086569</td>\n",
       "      <td>{'exp-expression-const':85,'homotypic-prob':30}</td>\n",
       "      <td>14.265741</td>\n",
       "      <td>{'exp-expression-const':25,'homotypic-prob':80}</td>\n",
       "    </tr>\n",
       "  </tbody>\n",
       "</table>\n",
       "</div>"
      ],
      "text/plain": [
       "    First_Error                                   First_Min_Param  Last_Error  \\\n",
       "0     95.204053   {'exp-expression-const':85,'homotypic-prob':35}   14.052837   \n",
       "1    126.277066   {'exp-expression-const':75,'homotypic-prob':85}   14.109651   \n",
       "2    122.827067  {'exp-expression-const':40,'homotypic-prob':100}   39.256695   \n",
       "3    143.209334   {'exp-expression-const':85,'homotypic-prob':85}   12.949686   \n",
       "4     82.329985   {'exp-expression-const':25,'homotypic-prob':55}   13.597257   \n",
       "5    114.324014   {'exp-expression-const':10,'homotypic-prob':25}   20.203886   \n",
       "6    103.310767   {'exp-expression-const':25,'homotypic-prob':55}   13.286601   \n",
       "7     84.851637   {'exp-expression-const':75,'homotypic-prob':40}    6.864921   \n",
       "8    183.861151   {'exp-expression-const':10,'homotypic-prob':55}   16.617673   \n",
       "9     86.934269  {'exp-expression-const':10,'homotypic-prob':100}    8.393153   \n",
       "10   170.006524   {'exp-expression-const':10,'homotypic-prob':35}   21.928221   \n",
       "11   314.703876   {'exp-expression-const':35,'homotypic-prob':20}   32.457637   \n",
       "12    74.622328   {'exp-expression-const':75,'homotypic-prob':35}   16.405680   \n",
       "13    43.848552   {'exp-expression-const':55,'homotypic-prob':95}   18.574847   \n",
       "14   131.130238   {'exp-expression-const':20,'homotypic-prob':65}   15.105020   \n",
       "15   115.727786  {'exp-expression-const':30,'homotypic-prob':100}   27.486148   \n",
       "16    78.326117   {'exp-expression-const':65,'homotypic-prob':55}   14.728648   \n",
       "17   114.989462   {'exp-expression-const':20,'homotypic-prob':65}   12.404785   \n",
       "18    95.684661   {'exp-expression-const':45,'homotypic-prob':95}   17.606896   \n",
       "19    91.094171   {'exp-expression-const':15,'homotypic-prob':80}   19.773356   \n",
       "20    98.026252   {'exp-expression-const':40,'homotypic-prob':70}   17.510671   \n",
       "21   100.780959   {'exp-expression-const':35,'homotypic-prob':55}   21.413757   \n",
       "22    84.786507   {'exp-expression-const':10,'homotypic-prob':85}   20.393665   \n",
       "23   160.195089   {'exp-expression-const':30,'homotypic-prob':70}   10.715896   \n",
       "24    32.176271   {'exp-expression-const':35,'homotypic-prob':45}   20.263396   \n",
       "25   242.330557   {'exp-expression-const':40,'homotypic-prob':55}   14.542544   \n",
       "26    99.905594   {'exp-expression-const':45,'homotypic-prob':15}   26.916424   \n",
       "27   116.198048   {'exp-expression-const':45,'homotypic-prob':70}   22.206786   \n",
       "28   178.086569   {'exp-expression-const':85,'homotypic-prob':30}   14.265741   \n",
       "\n",
       "                                      Last_Min_Param  \n",
       "0   {'exp-expression-const':20,'homotypic-prob':100}  \n",
       "1    {'exp-expression-const':20,'homotypic-prob':65}  \n",
       "2    {'exp-expression-const':75,'homotypic-prob':80}  \n",
       "3    {'exp-expression-const':20,'homotypic-prob':85}  \n",
       "4   {'exp-expression-const':30,'homotypic-prob':100}  \n",
       "5    {'exp-expression-const':15,'homotypic-prob':20}  \n",
       "6    {'exp-expression-const':30,'homotypic-prob':70}  \n",
       "7    {'exp-expression-const':20,'homotypic-prob':95}  \n",
       "8    {'exp-expression-const':25,'homotypic-prob':80}  \n",
       "9    {'exp-expression-const':20,'homotypic-prob':70}  \n",
       "10   {'exp-expression-const':25,'homotypic-prob':90}  \n",
       "11   {'exp-expression-const':30,'homotypic-prob':55}  \n",
       "12   {'exp-expression-const':30,'homotypic-prob':30}  \n",
       "13   {'exp-expression-const':20,'homotypic-prob':40}  \n",
       "14   {'exp-expression-const':20,'homotypic-prob':65}  \n",
       "15   {'exp-expression-const':20,'homotypic-prob':95}  \n",
       "16   {'exp-expression-const':20,'homotypic-prob':80}  \n",
       "17   {'exp-expression-const':25,'homotypic-prob':50}  \n",
       "18   {'exp-expression-const':20,'homotypic-prob':80}  \n",
       "19   {'exp-expression-const':25,'homotypic-prob':65}  \n",
       "20   {'exp-expression-const':20,'homotypic-prob':50}  \n",
       "21   {'exp-expression-const':15,'homotypic-prob':95}  \n",
       "22   {'exp-expression-const':30,'homotypic-prob':65}  \n",
       "23   {'exp-expression-const':20,'homotypic-prob':40}  \n",
       "24   {'exp-expression-const':20,'homotypic-prob':95}  \n",
       "25  {'exp-expression-const':20,'homotypic-prob':100}  \n",
       "26   {'exp-expression-const':25,'homotypic-prob':85}  \n",
       "27   {'exp-expression-const':20,'homotypic-prob':35}  \n",
       "28   {'exp-expression-const':25,'homotypic-prob':80}  "
      ]
     },
     "execution_count": 125,
     "metadata": {},
     "output_type": "execute_result"
    }
   ],
   "source": [
    "df"
   ]
  },
  {
   "cell_type": "markdown",
   "metadata": {},
   "source": [
    "# Post-Testing !"
   ]
  },
  {
   "cell_type": "code",
   "execution_count": 8,
   "metadata": {},
   "outputs": [],
   "source": [
    "nl4py.startServer(\"/Applications/NetLogo 6.0.4/\")"
   ]
  },
  {
   "cell_type": "code",
   "execution_count": 10,
   "metadata": {},
   "outputs": [
    {
     "name": "stdout",
     "output_type": "stream",
     "text": [
      "{'exp-expression-const': [0, 10, 20, 30, 40, 50, 60, 70, 80, 90, 100], 'homotypic-prob': [0, 5, 10, 15, 20, 25, 30, 35, 40, 45, 50, 55, 60, 65, 70, 75, 80, 85, 90, 95, 100], 'c-express-delay': [0, 5, 10, 15, 20, 25], 'c-express-thresh': [0, 5, 10, 15, 20], 'd-express-offset': [0, 5, 10, 15, 20, 25]}\n"
     ]
    }
   ],
   "source": [
    "num_cores = 4\n",
    "model_path = \"/Users/niki/Dropbox/Nikita/College/Projects/Lazzara Lab/ABM_Wendell&Lim/Circuit_ABCD_Asymm_01/Callibrate-ABM-HPC/Circuit_ABCD_Asymm_3.1_ParameterTuning.nlogo\"\n",
    "population = 20\n",
    "generations= 10\n",
    "reproduction_rate = 0.8\n",
    "mutation_rate = 0.25\n",
    "iterations = 10\n",
    "max_steps = 100\n",
    "\n",
    "EA = EvolutionaryAlgorithm(num_cores,model_path,population,generations,reproduction_rate,mutation_rate,\n",
    "                           iterations,max_steps)"
   ]
  },
  {
   "cell_type": "code",
   "execution_count": null,
   "metadata": {
    "scrolled": true
   },
   "outputs": [
    {
     "name": "stdout",
     "output_type": "stream",
     "text": [
      "---Generation 0---\n",
      "generation_average: 6653.515485883671\n",
      "generation_minimum: 54.62876342505083\n",
      "{'exp-expression-const': 30, 'homotypic-prob': 45, 'c-express-delay': 0, 'c-express-thresh': 0, 'd-express-offset': 5}\n",
      "20\n",
      "20\n",
      "im here\n",
      "I ran the model.\n",
      "---Generation 1---\n",
      "generation_average: 1803.7482335928755\n",
      "generation_minimum: 54.62876342505083\n",
      "{'exp-expression-const': 30, 'homotypic-prob': 45, 'c-express-delay': 0, 'c-express-thresh': 0, 'd-express-offset': 5}\n",
      "20\n",
      "20\n",
      "im here\n"
     ]
    }
   ],
   "source": [
    "EA_results_exp_error = EA.EA()"
   ]
  },
  {
   "cell_type": "code",
   "execution_count": null,
   "metadata": {},
   "outputs": [],
   "source": []
  }
 ],
 "metadata": {
  "kernelspec": {
   "display_name": "Python 3",
   "language": "python",
   "name": "python3"
  },
  "language_info": {
   "codemirror_mode": {
    "name": "ipython",
    "version": 3
   },
   "file_extension": ".py",
   "mimetype": "text/x-python",
   "name": "python",
   "nbconvert_exporter": "python",
   "pygments_lexer": "ipython3",
   "version": "3.7.9"
  }
 },
 "nbformat": 4,
 "nbformat_minor": 2
}
